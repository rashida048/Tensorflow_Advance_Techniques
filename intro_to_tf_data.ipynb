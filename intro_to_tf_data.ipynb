{
  "nbformat": 4,
  "nbformat_minor": 0,
  "metadata": {
    "colab": {
      "provenance": [],
      "authorship_tag": "ABX9TyOhYN3AugiY5Dh43ConFXSa",
      "include_colab_link": true
    },
    "kernelspec": {
      "name": "python3",
      "display_name": "Python 3"
    },
    "language_info": {
      "name": "python"
    }
  },
  "cells": [
    {
      "cell_type": "markdown",
      "metadata": {
        "id": "view-in-github",
        "colab_type": "text"
      },
      "source": [
        "<a href=\"https://colab.research.google.com/github/rashida048/Tensorflow_Advance_Techniques/blob/main/intro_to_tf_data.ipynb\" target=\"_parent\"><img src=\"https://colab.research.google.com/assets/colab-badge.svg\" alt=\"Open In Colab\"/></a>"
      ]
    },
    {
      "cell_type": "code",
      "execution_count": 3,
      "metadata": {
        "colab": {
          "base_uri": "https://localhost:8080/"
        },
        "id": "5tfjmU2g_uNt",
        "outputId": "3383cb59-a19e-4c42-e877-242babbcf43d"
      },
      "outputs": [
        {
          "output_type": "stream",
          "name": "stdout",
          "text": [
            "Looking in indexes: https://pypi.org/simple, https://us-python.pkg.dev/colab-wheels/public/simple/\n",
            "\u001b[31mERROR: Could not find a version that satisfies the requirement tensorflow==2.4.0 (from versions: 2.8.0rc0, 2.8.0rc1, 2.8.0, 2.8.1, 2.8.2, 2.8.3, 2.8.4, 2.9.0rc0, 2.9.0rc1, 2.9.0rc2, 2.9.0, 2.9.1, 2.9.2, 2.9.3, 2.10.0rc0, 2.10.0rc1, 2.10.0rc2, 2.10.0rc3, 2.10.0, 2.10.1, 2.11.0rc0, 2.11.0rc1, 2.11.0rc2, 2.11.0, 2.11.1, 2.12.0rc0, 2.12.0rc1, 2.12.0, 2.13.0rc0, 2.13.0rc1)\u001b[0m\u001b[31m\n",
            "\u001b[0m\u001b[31mERROR: No matching distribution found for tensorflow==2.4.0\u001b[0m\u001b[31m\n",
            "\u001b[0m"
          ]
        }
      ],
      "source": [
        "!pip install tensorflow==2.4.0"
      ]
    },
    {
      "cell_type": "code",
      "source": [
        "!wget https://pyimagesearch-code-downloads.s3-us-west-2.amazonaws.com/tfdata-intro/tfdata-intro.zip\n",
        "!unzip -qq tfdata-intro.zip\n",
        "%cd tfdata-intro"
      ],
      "metadata": {
        "colab": {
          "base_uri": "https://localhost:8080/"
        },
        "id": "suVq9jUy_4wD",
        "outputId": "8265d03d-666a-444f-a0ab-f82f666f4ef8"
      },
      "execution_count": 4,
      "outputs": [
        {
          "output_type": "stream",
          "name": "stdout",
          "text": [
            "--2023-06-01 03:28:59--  https://pyimagesearch-code-downloads.s3-us-west-2.amazonaws.com/tfdata-intro/tfdata-intro.zip\n",
            "Resolving pyimagesearch-code-downloads.s3-us-west-2.amazonaws.com (pyimagesearch-code-downloads.s3-us-west-2.amazonaws.com)... 52.218.153.129, 3.5.83.150, 52.92.129.234, ...\n",
            "Connecting to pyimagesearch-code-downloads.s3-us-west-2.amazonaws.com (pyimagesearch-code-downloads.s3-us-west-2.amazonaws.com)|52.218.153.129|:443... connected.\n",
            "HTTP request sent, awaiting response... 200 OK\n",
            "Length: 586970111 (560M) [binary/octet-stream]\n",
            "Saving to: ‘tfdata-intro.zip’\n",
            "\n",
            "tfdata-intro.zip    100%[===================>] 559.78M  27.5MB/s    in 18s     \n",
            "\n",
            "2023-06-01 03:29:18 (31.0 MB/s) - ‘tfdata-intro.zip’ saved [586970111/586970111]\n",
            "\n",
            "/content/tfdata-intro\n"
          ]
        }
      ]
    },
    {
      "cell_type": "code",
      "source": [
        "# import the necessary packages\n",
        "from tensorflow.keras.preprocessing.image import ImageDataGenerator\n",
        "from tensorflow.keras.datasets import cifar100\n",
        "from tensorflow.data import AUTOTUNE\n",
        "from imutils import paths\n",
        "import tensorflow as tf\n",
        "import numpy as np\n",
        "import time\n",
        "import os"
      ],
      "metadata": {
        "id": "LHOYoKbsAGKA"
      },
      "execution_count": 5,
      "outputs": []
    },
    {
      "cell_type": "code",
      "source": [
        "def benchmark(datasetGen, numSteps):\n",
        "  start = time.time() \n",
        "\n",
        "  for i in range(0, numSteps):\n",
        "    (images, labels) = next(datasetGen)\n",
        "\n",
        "  end = time.time()\n",
        "\n",
        "  return (end - start)"
      ],
      "metadata": {
        "id": "JM8etNccAOzl"
      },
      "execution_count": 6,
      "outputs": []
    },
    {
      "cell_type": "code",
      "source": [
        "BS = 64 \n",
        "NUM_STEPS = 5000 \n",
        "\n",
        "((trainX, trainY), (testX, testY)) = cifar100.load_data()"
      ],
      "metadata": {
        "colab": {
          "base_uri": "https://localhost:8080/"
        },
        "id": "sqrH2qimAoP_",
        "outputId": "1b1b5fcc-5320-478a-ea2e-261c26865f81"
      },
      "execution_count": 7,
      "outputs": [
        {
          "output_type": "stream",
          "name": "stdout",
          "text": [
            "Downloading data from https://www.cs.toronto.edu/~kriz/cifar-100-python.tar.gz\n",
            "169001437/169001437 [==============================] - 3s 0us/step\n"
          ]
        }
      ]
    },
    {
      "cell_type": "code",
      "source": [
        "imageGen = ImageDataGenerator()\n",
        "dataGen = imageGen.flow(\n",
        "    x=trainX, y = trainY,\n",
        "    batch_size = BS, shuffle=True \n",
        ")"
      ],
      "metadata": {
        "id": "yRf-yjC4A7Cw"
      },
      "execution_count": 11,
      "outputs": []
    },
    {
      "cell_type": "code",
      "source": [
        "dataset = tf.data.Dataset.from_tensor_slices((trainX, trainY))\n",
        "\n",
        "dataset=(dataset.shuffle(1024)\n",
        ".cache()\n",
        ".repeat()\n",
        ".batch(BS)\n",
        ".prefetch(AUTOTUNE)\n",
        ")"
      ],
      "metadata": {
        "id": "toBkHSFMBMSH"
      },
      "execution_count": 12,
      "outputs": []
    },
    {
      "cell_type": "code",
      "source": [
        "totalTime = benchmark(dataGen, NUM_STEPS)\n",
        "print(\"[INFO] ImageDataGenerator generated {} images in \" \\\n",
        "      \" {:.2f} seconds...\".format(\n",
        "          BS * NUM_STEPS, totalTime\n",
        "      ))"
      ],
      "metadata": {
        "colab": {
          "base_uri": "https://localhost:8080/"
        },
        "id": "tmIeGnUNB7PM",
        "outputId": "c26f721f-4660-4380-f803-423f7fcc28d1"
      },
      "execution_count": 13,
      "outputs": [
        {
          "output_type": "stream",
          "name": "stdout",
          "text": [
            "[INFO] ImageDataGenerator generated 320000 images in  10.33 seconds...\n"
          ]
        }
      ]
    },
    {
      "cell_type": "code",
      "source": [
        "datasetGen = iter(dataset)\n",
        "totalTime = benchmark(datasetGen, NUM_STEPS)\n",
        "print(\"[INFO] tf.data generated {} images in {:.2f} seconds...\".format(\n",
        "\tBS * NUM_STEPS, totalTime))"
      ],
      "metadata": {
        "colab": {
          "base_uri": "https://localhost:8080/"
        },
        "id": "GLXS1sRbDKfH",
        "outputId": "60a48387-6eba-4065-9eb8-f66baf840d25"
      },
      "execution_count": 14,
      "outputs": [
        {
          "output_type": "stream",
          "name": "stdout",
          "text": [
            "[INFO] tf.data generated 320000 images in 1.97 seconds...\n"
          ]
        }
      ]
    },
    {
      "cell_type": "code",
      "source": [
        "def load_images(imagePath):\n",
        "\t# read the image from disk, decode it, resize it, and scale the\n",
        "\t# pixels intensities to the range [0, 1]\n",
        "\timage = tf.io.read_file(imagePath)\n",
        "\timage = tf.image.decode_png(image, channels=3)\n",
        "\timage = tf.image.resize(image, (96, 96)) / 255.0\n",
        "\n",
        "\t# grab the label and encode it\n",
        "\tlabel = tf.strings.split(imagePath, os.path.sep)[-2]\n",
        "\toneHot = label == classNames\n",
        "\tencodedLabel = tf.argmax(oneHot)\n",
        "\n",
        "\t# return the image and the integer encoded label\n",
        "\treturn (image, encodedLabel)"
      ],
      "metadata": {
        "id": "x8ETt3OFEc1-"
      },
      "execution_count": 15,
      "outputs": []
    },
    {
      "cell_type": "code",
      "source": [
        "args = {\n",
        "    \"dataset\": \"fruits\"\n",
        "}"
      ],
      "metadata": {
        "id": "Zn4Nv0-gGmOl"
      },
      "execution_count": 16,
      "outputs": []
    },
    {
      "cell_type": "code",
      "source": [
        "BS = 64\n",
        "NUM_STEPS = 1000\n",
        "\n",
        "imagePaths = list(paths.list_images(args[\"dataset\"]))\n",
        "classNames = np.array(sorted(os.listdir(args[\"dataset\"])))"
      ],
      "metadata": {
        "id": "xY5bymvEGoDY"
      },
      "execution_count": 17,
      "outputs": []
    },
    {
      "cell_type": "code",
      "source": [
        "dataset = tf.data.Dataset.from_tensor_slices(imagePaths)\n",
        "dataset = (dataset.shuffle(1024)\n",
        ".map(load_images, num_parallel_calls = AUTOTUNE)\n",
        "           .cache()\n",
        "           .repeat()\n",
        "           .batch(BS)\n",
        "           .prefetch(AUTOTUNE)\n",
        "           )"
      ],
      "metadata": {
        "id": "iQB58mO_G75R"
      },
      "execution_count": 18,
      "outputs": []
    },
    {
      "cell_type": "code",
      "source": [
        "# create a standard image generator object\n",
        "print(\"[INFO] creating a ImageDataGenerator object...\")\n",
        "imageGen = ImageDataGenerator(rescale=1.0/255)\n",
        "dataGen = imageGen.flow_from_directory(\n",
        "\targs[\"dataset\"],\n",
        "\ttarget_size=(96, 96),\n",
        "\tbatch_size=BS,\n",
        "\tclass_mode=\"categorical\",\n",
        "\tcolor_mode=\"rgb\")"
      ],
      "metadata": {
        "colab": {
          "base_uri": "https://localhost:8080/"
        },
        "id": "FKrhWp_sH8jm",
        "outputId": "47b35ee0-479c-45f4-965f-beb8bb8a89fa"
      },
      "execution_count": 19,
      "outputs": [
        {
          "output_type": "stream",
          "name": "stdout",
          "text": [
            "[INFO] creating a ImageDataGenerator object...\n",
            "Found 6688 images belonging to 7 classes.\n"
          ]
        }
      ]
    },
    {
      "cell_type": "code",
      "source": [
        "totalTime = benchmark(dataGen, NUM_STEPS)\n",
        "print(\"[INFO] ImageDataGenerator generated {} images in \" \\\n",
        "\t  \" {:.2f} seconds...\".format(\n",
        "\tBS * NUM_STEPS, totalTime))"
      ],
      "metadata": {
        "colab": {
          "base_uri": "https://localhost:8080/"
        },
        "id": "ZRYg4hkSIGf8",
        "outputId": "26e8183e-9727-441e-d2cc-106900c37045"
      },
      "execution_count": 20,
      "outputs": [
        {
          "output_type": "stream",
          "name": "stdout",
          "text": [
            "[INFO] ImageDataGenerator generated 64000 images in  380.54 seconds...\n"
          ]
        }
      ]
    },
    {
      "cell_type": "code",
      "source": [
        "datasetGen = iter(dataset)\n",
        "totalTime = benchmark(datasetGen, NUM_STEPS)\n",
        "print(\"[INFO] tf.data generated {} images in {:.2f} seconds...\".format(\n",
        "\tBS * NUM_STEPS, totalTime))"
      ],
      "metadata": {
        "colab": {
          "base_uri": "https://localhost:8080/"
        },
        "id": "piLBdcZNIQk2",
        "outputId": "03ce6ee2-b086-4eb6-fb95-17d83eb2f1a3"
      },
      "execution_count": 21,
      "outputs": [
        {
          "output_type": "stream",
          "name": "stdout",
          "text": [
            "[INFO] tf.data generated 64000 images in 19.50 seconds...\n"
          ]
        }
      ]
    },
    {
      "cell_type": "code",
      "source": [],
      "metadata": {
        "id": "1AySH1NpITDi"
      },
      "execution_count": null,
      "outputs": []
    }
  ]
}
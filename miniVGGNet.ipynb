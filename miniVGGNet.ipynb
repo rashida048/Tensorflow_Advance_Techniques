{
  "nbformat": 4,
  "nbformat_minor": 0,
  "metadata": {
    "colab": {
      "provenance": [],
      "authorship_tag": "ABX9TyP0gPWD5qQ7jxNf5YM+9cAE",
      "include_colab_link": true
    },
    "kernelspec": {
      "name": "python3",
      "display_name": "Python 3"
    },
    "language_info": {
      "name": "python"
    }
  },
  "cells": [
    {
      "cell_type": "markdown",
      "metadata": {
        "id": "view-in-github",
        "colab_type": "text"
      },
      "source": [
        "<a href=\"https://colab.research.google.com/github/rashida048/Tensorflow_Advance_Techniques/blob/main/miniVGGNet.ipynb\" target=\"_parent\"><img src=\"https://colab.research.google.com/assets/colab-badge.svg\" alt=\"Open In Colab\"/></a>"
      ]
    },
    {
      "cell_type": "code",
      "execution_count": 1,
      "metadata": {
        "id": "34cJM_Jq-xQV"
      },
      "outputs": [],
      "source": [
        "from tensorflow.keras.models import Sequential\n",
        "from tensorflow.keras.layers import BatchNormalization\n",
        "from tensorflow.keras.layers import Conv2D\n",
        "from tensorflow.keras.layers import MaxPooling2D\n",
        "from tensorflow.keras.layers import Activation\n",
        "from tensorflow.keras.layers import Flatten\n",
        "from tensorflow.keras.layers import Dropout\n",
        "from tensorflow.keras.layers import Dense\n",
        "from tensorflow.keras import backend as K\n",
        "import matplotlib \n",
        "import matplotlib.pyplot as plt"
      ]
    },
    {
      "cell_type": "code",
      "source": [
        "class MiniVGGNet:\n",
        "\t@staticmethod\n",
        "\tdef build(width, height, depth, classes):\n",
        "\t\t# initialize the model along with the input shape to be\n",
        "\t\t# \"channels last\" and the channels dimension itself\n",
        "\t\tmodel = Sequential()\n",
        "\t\tinput_shape = (height, width, depth)\n",
        "\t\tchanDimension = -1\n",
        "\n",
        "\t\t# if we are using \"channels first\", update the input shape\n",
        "\t\t# and channels dimension\n",
        "\t\tif K.image_data_format() == \"channels_first\":\n",
        "\t\t\tinputShape = (depth, height, width)\n",
        "\t\t\tchanDimension = 1\n",
        "\n",
        "\t\t# first CONV => RELU => CONV => RELU => POOL layer set\n",
        "\t\tmodel.add(Conv2D(64, (3, 3), padding=\"same\",\n",
        "\t\t\tinput_shape=input_shape))\n",
        "\t\tmodel.add(Activation(\"relu\"))\n",
        "\t\tmodel.add(BatchNormalization(axis=chanDimension))\n",
        "  \n",
        "\t\tmodel.add(Conv2D(64, (3, 3), padding=\"same\"))\n",
        "\t\tmodel.add(Activation(\"relu\"))\n",
        "\t\tmodel.add(BatchNormalization(axis=chanDimension))\n",
        "\t\tmodel.add(MaxPooling2D(pool_size=(2, 2)))\n",
        "\t\tmodel.add(Dropout(0.25))\n",
        "\n",
        "\t\t# second CONV => RELU => CONV => RELU => POOL layer set\n",
        "\t\tmodel.add(Conv2D(64, (3, 3), padding=\"same\"))\n",
        "\t\tmodel.add(Activation(\"relu\"))\n",
        "\t\tmodel.add(BatchNormalization(axis=chanDimension))\n",
        "\t\tmodel.add(Conv2D(64, (3, 3), padding=\"same\"))\n",
        "\t\tmodel.add(Activation(\"relu\"))\n",
        "\t\tmodel.add(BatchNormalization(axis=chanDimension))\n",
        "\t\tmodel.add(MaxPooling2D(pool_size=(2, 2)))\n",
        "\t\tmodel.add(Dropout(0.2))\n",
        "\n",
        "\t\t# first (and only) set of FC => RELU layers\n",
        "\t\tmodel.add(Flatten())\n",
        "\t\tmodel.add(Dense(512))\n",
        "\t\tmodel.add(Activation(\"relu\"))\n",
        "\t\tmodel.add(BatchNormalization())\n",
        "\t\tmodel.add(Dropout(0.5))\n",
        "\n",
        "\t\t# softmax classifier\n",
        "\t\tmodel.add(Dense(classes))\n",
        "\t\tmodel.add(Activation(\"softmax\"))\n",
        "\n",
        "\t\t# return the constructed network architecture\n",
        "\t\treturn model"
      ],
      "metadata": {
        "id": "WWXonpoK-7nT"
      },
      "execution_count": 9,
      "outputs": []
    },
    {
      "cell_type": "code",
      "source": [
        "import matplotlib\n",
        "matplotlib.use(\"Agg\")\n",
        "\n",
        "from sklearn.preprocessing import LabelBinarizer\n",
        "from sklearn.metrics import classification_report\n",
        "from tensorflow.keras.optimizers import SGD\n",
        "from tensorflow.keras.datasets import cifar10\n",
        "import matplotlib.pyplot as plt\n",
        "import numpy as np"
      ],
      "metadata": {
        "id": "Gvz1uxpnwead"
      },
      "execution_count": 10,
      "outputs": []
    },
    {
      "cell_type": "code",
      "source": [
        "((trainX, trainY), (testX, testY)) = cifar10.load_data()\n",
        "trainX = trainX.astype(\"float\") / 255.0\n",
        "testX = testX.astype(\"float\") / 255.0"
      ],
      "metadata": {
        "id": "1_1hji7wwimp"
      },
      "execution_count": 11,
      "outputs": []
    },
    {
      "cell_type": "code",
      "source": [
        "lb = LabelBinarizer()\n",
        "trainY = lb.fit_transform(trainY)\n",
        "testY = lb.transform(testY)"
      ],
      "metadata": {
        "id": "vmKdnrRjwlEE"
      },
      "execution_count": 12,
      "outputs": []
    },
    {
      "cell_type": "code",
      "source": [
        "labelNames = [\"airplane\", \"automobile\", \"bird\", \"cat\", \"deer\",\n",
        "\t\"dog\", \"frog\", \"horse\", \"ship\", \"truck\"]"
      ],
      "metadata": {
        "id": "RcdL8jUmwolD"
      },
      "execution_count": 13,
      "outputs": []
    },
    {
      "cell_type": "code",
      "source": [
        "import tensorflow as tf "
      ],
      "metadata": {
        "id": "P7NWI4YKwrWo"
      },
      "execution_count": 7,
      "outputs": []
    },
    {
      "cell_type": "code",
      "source": [
        "opt = tf.keras.optimizers.legacy.SGD(learning_rate=0.01, decay=0.01/40, momentum=0.9, nesterov=True)\n",
        "model = MiniVGGNet.build(width=32, height=32, depth=3, classes=10)\n",
        "model.compile(loss='categorical_crossentropy', optimizer=opt,\n",
        "              metrics=[\"accuracy\"])\n",
        "\n",
        "H = model.fit(trainX, trainY, validation_data=(testX, testY),\n",
        "              batch_size=64, epochs=25, verbose=1)"
      ],
      "metadata": {
        "colab": {
          "base_uri": "https://localhost:8080/"
        },
        "id": "aSli-oLcwuKo",
        "outputId": "a15be890-cf8b-425d-a2e2-d2025cd46271"
      },
      "execution_count": 14,
      "outputs": [
        {
          "output_type": "stream",
          "name": "stdout",
          "text": [
            "Epoch 1/25\n",
            "782/782 [==============================] - 756s 965ms/step - loss: 1.6295 - accuracy: 0.4523 - val_loss: 1.3001 - val_accuracy: 0.5426\n",
            "Epoch 2/25\n",
            "782/782 [==============================] - 753s 963ms/step - loss: 1.1444 - accuracy: 0.6006 - val_loss: 1.0372 - val_accuracy: 0.6328\n",
            "Epoch 3/25\n",
            "782/782 [==============================] - 747s 955ms/step - loss: 0.9532 - accuracy: 0.6673 - val_loss: 0.8206 - val_accuracy: 0.7134\n",
            "Epoch 4/25\n",
            "782/782 [==============================] - 739s 945ms/step - loss: 0.8426 - accuracy: 0.7062 - val_loss: 0.7369 - val_accuracy: 0.7413\n",
            "Epoch 5/25\n",
            "782/782 [==============================] - 740s 946ms/step - loss: 0.7614 - accuracy: 0.7324 - val_loss: 0.7275 - val_accuracy: 0.7462\n",
            "Epoch 6/25\n",
            "782/782 [==============================] - 732s 937ms/step - loss: 0.6944 - accuracy: 0.7570 - val_loss: 0.7359 - val_accuracy: 0.7491\n",
            "Epoch 7/25\n",
            "782/782 [==============================] - 751s 961ms/step - loss: 0.6553 - accuracy: 0.7699 - val_loss: 0.6623 - val_accuracy: 0.7730\n",
            "Epoch 8/25\n",
            "782/782 [==============================] - 731s 934ms/step - loss: 0.6029 - accuracy: 0.7878 - val_loss: 0.6308 - val_accuracy: 0.7816\n",
            "Epoch 9/25\n",
            "782/782 [==============================] - 729s 933ms/step - loss: 0.5632 - accuracy: 0.7998 - val_loss: 0.6203 - val_accuracy: 0.7854\n",
            "Epoch 10/25\n",
            "782/782 [==============================] - 723s 924ms/step - loss: 0.5344 - accuracy: 0.8118 - val_loss: 0.6001 - val_accuracy: 0.7941\n",
            "Epoch 11/25\n",
            "782/782 [==============================] - 712s 910ms/step - loss: 0.5061 - accuracy: 0.8210 - val_loss: 0.6142 - val_accuracy: 0.7886\n",
            "Epoch 12/25\n",
            "782/782 [==============================] - 733s 938ms/step - loss: 0.4756 - accuracy: 0.8318 - val_loss: 0.5842 - val_accuracy: 0.8000\n",
            "Epoch 13/25\n",
            "782/782 [==============================] - 743s 950ms/step - loss: 0.4535 - accuracy: 0.8388 - val_loss: 0.5885 - val_accuracy: 0.8024\n",
            "Epoch 14/25\n",
            "782/782 [==============================] - 754s 964ms/step - loss: 0.4290 - accuracy: 0.8480 - val_loss: 0.5952 - val_accuracy: 0.7989\n",
            "Epoch 15/25\n",
            "782/782 [==============================] - 743s 951ms/step - loss: 0.4072 - accuracy: 0.8554 - val_loss: 0.5846 - val_accuracy: 0.8029\n",
            "Epoch 16/25\n",
            "782/782 [==============================] - 758s 969ms/step - loss: 0.3968 - accuracy: 0.8593 - val_loss: 0.5604 - val_accuracy: 0.8140\n",
            "Epoch 17/25\n",
            "782/782 [==============================] - 742s 949ms/step - loss: 0.3788 - accuracy: 0.8653 - val_loss: 0.5576 - val_accuracy: 0.8140\n",
            "Epoch 18/25\n",
            "782/782 [==============================] - 736s 941ms/step - loss: 0.3580 - accuracy: 0.8725 - val_loss: 0.5613 - val_accuracy: 0.8160\n",
            "Epoch 19/25\n",
            "782/782 [==============================] - 731s 935ms/step - loss: 0.3445 - accuracy: 0.8777 - val_loss: 0.5628 - val_accuracy: 0.8119\n",
            "Epoch 20/25\n",
            "782/782 [==============================] - 726s 929ms/step - loss: 0.3310 - accuracy: 0.8816 - val_loss: 0.5548 - val_accuracy: 0.8168\n",
            "Epoch 21/25\n",
            "782/782 [==============================] - 725s 927ms/step - loss: 0.3209 - accuracy: 0.8854 - val_loss: 0.5569 - val_accuracy: 0.8191\n",
            "Epoch 22/25\n",
            "782/782 [==============================] - 744s 952ms/step - loss: 0.3070 - accuracy: 0.8910 - val_loss: 0.5748 - val_accuracy: 0.8118\n",
            "Epoch 23/25\n",
            "782/782 [==============================] - 762s 975ms/step - loss: 0.2948 - accuracy: 0.8959 - val_loss: 0.5533 - val_accuracy: 0.8172\n",
            "Epoch 24/25\n",
            "782/782 [==============================] - 758s 970ms/step - loss: 0.2872 - accuracy: 0.8971 - val_loss: 0.5720 - val_accuracy: 0.8166\n",
            "Epoch 25/25\n",
            "782/782 [==============================] - 749s 958ms/step - loss: 0.2765 - accuracy: 0.9002 - val_loss: 0.5852 - val_accuracy: 0.8154\n"
          ]
        }
      ]
    },
    {
      "cell_type": "code",
      "source": [],
      "metadata": {
        "id": "h-V-EMdiwxRV"
      },
      "execution_count": null,
      "outputs": []
    }
  ]
}